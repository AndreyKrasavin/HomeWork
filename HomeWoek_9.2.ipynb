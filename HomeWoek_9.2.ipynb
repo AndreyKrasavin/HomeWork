import pandas as pd
#%%
df = pd.read_csv('california.csv')
#%%
df[df['population'] <=500 ], df['median_house_value']
